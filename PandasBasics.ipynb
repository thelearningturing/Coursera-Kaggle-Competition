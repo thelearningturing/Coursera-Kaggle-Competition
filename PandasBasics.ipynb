{
 "cells": [
  {
   "cell_type": "markdown",
   "metadata": {},
   "source": [
    "Version 1.0.1"
   ]
  },
  {
   "cell_type": "markdown",
   "metadata": {},
   "source": [
    "# Pandas basics "
   ]
  },
  {
   "cell_type": "markdown",
   "metadata": {},
   "source": [
    "Hi! In this programming assignment you need to refresh your `pandas` knowledge. You will need to do several [`groupby`](https://pandas.pydata.org/pandas-docs/stable/generated/pandas.DataFrame.groupby.html)s and [`join`]()`s to solve the task. "
   ]
  },
  {
   "cell_type": "code",
   "execution_count": 2,
   "metadata": {
    "collapsed": true
   },
   "outputs": [],
   "source": [
    "import pandas as pd\n",
    "import numpy as np\n",
    "import os\n",
    "import matplotlib.pyplot as plt\n",
    "%matplotlib inline \n",
    "\n",
    "from grader import Grader"
   ]
  },
  {
   "cell_type": "code",
   "execution_count": 3,
   "metadata": {
    "collapsed": true
   },
   "outputs": [],
   "source": [
    "DATA_FOLDER = 'final_project_data/'\n",
    "\n",
    "transactions    = pd.read_csv(os.path.join(DATA_FOLDER, 'sales_train.csv.gz'))\n",
    "items           = pd.read_csv(os.path.join(DATA_FOLDER, 'items.csv'))\n",
    "item_categories = pd.read_csv(os.path.join(DATA_FOLDER, 'item_categories.csv'))\n",
    "shops           = pd.read_csv(os.path.join(DATA_FOLDER, 'shops.csv'))"
   ]
  },
  {
   "cell_type": "markdown",
   "metadata": {},
   "source": [
    "The dataset we are going to use is taken from the competition, that serves as the final project for this course. You can find complete data description at the [competition web page](https://www.kaggle.com/c/competitive-data-science-final-project/data). To join the competition use [this link](https://www.kaggle.com/t/1ea93815dca248e99221df42ebde3540)."
   ]
  },
  {
   "cell_type": "markdown",
   "metadata": {},
   "source": [
    "## Grading"
   ]
  },
  {
   "cell_type": "markdown",
   "metadata": {},
   "source": [
    "We will create a grader instace below and use it to collect your answers. When function `submit_tag` is called, grader will store your answer *locally*. The answers will *not* be submited to the platform immediately so you can call `submit_tag` function as many times as you need. \n",
    "\n",
    "When you are ready to push your answers to the platform you should fill your credentials and run `submit` function in the <a href=\"#Authorization-&-Submission\">last paragraph</a>  of the assignment."
   ]
  },
  {
   "cell_type": "code",
   "execution_count": 4,
   "metadata": {
    "collapsed": true
   },
   "outputs": [],
   "source": [
    "grader = Grader()"
   ]
  },
  {
   "cell_type": "markdown",
   "metadata": {},
   "source": [
    "# Task"
   ]
  },
  {
   "cell_type": "markdown",
   "metadata": {},
   "source": [
    "Let's start with a simple task. \n",
    "\n",
    "<ol start=\"0\">\n",
    "  <li><b>Print the shape of the loaded dataframes and use [`df.head`](https://pandas.pydata.org/pandas-docs/stable/generated/pandas.DataFrame.head.html) function to print several rows. Examine the features you are given.</b></li>\n",
    "</ol>"
   ]
  },
  {
   "cell_type": "raw",
   "metadata": {
    "collapsed": true
   },
   "source": [
    "# YOUR CODE GOES HERE\n",
    "print(transactions.head())\n",
    "print(items.head)\n",
    "print(item_categories.head)\n",
    "print(shops.head)"
   ]
  },
  {
   "cell_type": "code",
   "execution_count": 14,
   "metadata": {
    "collapsed": false
   },
   "outputs": [
    {
     "data": {
      "text/plain": [
       "Index(['date', 'date_block_num', 'shop_id', 'item_id', 'item_price',\n",
       "       'item_cnt_day'],\n",
       "      dtype='object')"
      ]
     },
     "execution_count": 14,
     "metadata": {},
     "output_type": "execute_result"
    }
   ],
   "source": [
    "transactions.columns"
   ]
  },
  {
   "cell_type": "code",
   "execution_count": 17,
   "metadata": {
    "collapsed": false
   },
   "outputs": [
    {
     "data": {
      "text/html": [
       "<div>\n",
       "<table border=\"1\" class=\"dataframe\">\n",
       "  <thead>\n",
       "    <tr style=\"text-align: right;\">\n",
       "      <th></th>\n",
       "      <th>date</th>\n",
       "      <th>date_block_num</th>\n",
       "      <th>shop_id</th>\n",
       "      <th>item_id</th>\n",
       "      <th>item_price</th>\n",
       "      <th>item_cnt_day</th>\n",
       "    </tr>\n",
       "  </thead>\n",
       "  <tbody>\n",
       "    <tr>\n",
       "      <th>0</th>\n",
       "      <td>02.01.2013</td>\n",
       "      <td>0</td>\n",
       "      <td>59</td>\n",
       "      <td>22154</td>\n",
       "      <td>999.00</td>\n",
       "      <td>1.0</td>\n",
       "    </tr>\n",
       "    <tr>\n",
       "      <th>1</th>\n",
       "      <td>03.01.2013</td>\n",
       "      <td>0</td>\n",
       "      <td>25</td>\n",
       "      <td>2552</td>\n",
       "      <td>899.00</td>\n",
       "      <td>1.0</td>\n",
       "    </tr>\n",
       "    <tr>\n",
       "      <th>2</th>\n",
       "      <td>05.01.2013</td>\n",
       "      <td>0</td>\n",
       "      <td>25</td>\n",
       "      <td>2552</td>\n",
       "      <td>899.00</td>\n",
       "      <td>-1.0</td>\n",
       "    </tr>\n",
       "    <tr>\n",
       "      <th>3</th>\n",
       "      <td>06.01.2013</td>\n",
       "      <td>0</td>\n",
       "      <td>25</td>\n",
       "      <td>2554</td>\n",
       "      <td>1709.05</td>\n",
       "      <td>1.0</td>\n",
       "    </tr>\n",
       "    <tr>\n",
       "      <th>4</th>\n",
       "      <td>15.01.2013</td>\n",
       "      <td>0</td>\n",
       "      <td>25</td>\n",
       "      <td>2555</td>\n",
       "      <td>1099.00</td>\n",
       "      <td>1.0</td>\n",
       "    </tr>\n",
       "  </tbody>\n",
       "</table>\n",
       "</div>"
      ],
      "text/plain": [
       "         date  date_block_num  shop_id  item_id  item_price  item_cnt_day\n",
       "0  02.01.2013               0       59    22154      999.00           1.0\n",
       "1  03.01.2013               0       25     2552      899.00           1.0\n",
       "2  05.01.2013               0       25     2552      899.00          -1.0\n",
       "3  06.01.2013               0       25     2554     1709.05           1.0\n",
       "4  15.01.2013               0       25     2555     1099.00           1.0"
      ]
     },
     "execution_count": 17,
     "metadata": {},
     "output_type": "execute_result"
    }
   ],
   "source": [
    "transactions.head()"
   ]
  },
  {
   "cell_type": "code",
   "execution_count": 18,
   "metadata": {
    "collapsed": false
   },
   "outputs": [
    {
     "data": {
      "text/html": [
       "<div>\n",
       "<table border=\"1\" class=\"dataframe\">\n",
       "  <thead>\n",
       "    <tr style=\"text-align: right;\">\n",
       "      <th></th>\n",
       "      <th>item_name</th>\n",
       "      <th>item_id</th>\n",
       "      <th>item_category_id</th>\n",
       "    </tr>\n",
       "  </thead>\n",
       "  <tbody>\n",
       "    <tr>\n",
       "      <th>0</th>\n",
       "      <td>! ВО ВЛАСТИ НАВАЖДЕНИЯ (ПЛАСТ.)         D</td>\n",
       "      <td>0</td>\n",
       "      <td>40</td>\n",
       "    </tr>\n",
       "    <tr>\n",
       "      <th>1</th>\n",
       "      <td>!ABBYY FineReader 12 Professional Edition Full...</td>\n",
       "      <td>1</td>\n",
       "      <td>76</td>\n",
       "    </tr>\n",
       "    <tr>\n",
       "      <th>2</th>\n",
       "      <td>***В ЛУЧАХ СЛАВЫ   (UNV)                    D</td>\n",
       "      <td>2</td>\n",
       "      <td>40</td>\n",
       "    </tr>\n",
       "    <tr>\n",
       "      <th>3</th>\n",
       "      <td>***ГОЛУБАЯ ВОЛНА  (Univ)                      D</td>\n",
       "      <td>3</td>\n",
       "      <td>40</td>\n",
       "    </tr>\n",
       "    <tr>\n",
       "      <th>4</th>\n",
       "      <td>***КОРОБКА (СТЕКЛО)                       D</td>\n",
       "      <td>4</td>\n",
       "      <td>40</td>\n",
       "    </tr>\n",
       "  </tbody>\n",
       "</table>\n",
       "</div>"
      ],
      "text/plain": [
       "                                           item_name  item_id  \\\n",
       "0          ! ВО ВЛАСТИ НАВАЖДЕНИЯ (ПЛАСТ.)         D        0   \n",
       "1  !ABBYY FineReader 12 Professional Edition Full...        1   \n",
       "2      ***В ЛУЧАХ СЛАВЫ   (UNV)                    D        2   \n",
       "3    ***ГОЛУБАЯ ВОЛНА  (Univ)                      D        3   \n",
       "4        ***КОРОБКА (СТЕКЛО)                       D        4   \n",
       "\n",
       "   item_category_id  \n",
       "0                40  \n",
       "1                76  \n",
       "2                40  \n",
       "3                40  \n",
       "4                40  "
      ]
     },
     "execution_count": 18,
     "metadata": {},
     "output_type": "execute_result"
    }
   ],
   "source": [
    "items.head()"
   ]
  },
  {
   "cell_type": "code",
   "execution_count": 19,
   "metadata": {
    "collapsed": false
   },
   "outputs": [
    {
     "data": {
      "text/html": [
       "<div>\n",
       "<table border=\"1\" class=\"dataframe\">\n",
       "  <thead>\n",
       "    <tr style=\"text-align: right;\">\n",
       "      <th></th>\n",
       "      <th>item_category_name</th>\n",
       "      <th>item_category_id</th>\n",
       "    </tr>\n",
       "  </thead>\n",
       "  <tbody>\n",
       "    <tr>\n",
       "      <th>0</th>\n",
       "      <td>PC - Гарнитуры/Наушники</td>\n",
       "      <td>0</td>\n",
       "    </tr>\n",
       "    <tr>\n",
       "      <th>1</th>\n",
       "      <td>Аксессуары - PS2</td>\n",
       "      <td>1</td>\n",
       "    </tr>\n",
       "    <tr>\n",
       "      <th>2</th>\n",
       "      <td>Аксессуары - PS3</td>\n",
       "      <td>2</td>\n",
       "    </tr>\n",
       "    <tr>\n",
       "      <th>3</th>\n",
       "      <td>Аксессуары - PS4</td>\n",
       "      <td>3</td>\n",
       "    </tr>\n",
       "    <tr>\n",
       "      <th>4</th>\n",
       "      <td>Аксессуары - PSP</td>\n",
       "      <td>4</td>\n",
       "    </tr>\n",
       "  </tbody>\n",
       "</table>\n",
       "</div>"
      ],
      "text/plain": [
       "        item_category_name  item_category_id\n",
       "0  PC - Гарнитуры/Наушники                 0\n",
       "1         Аксессуары - PS2                 1\n",
       "2         Аксессуары - PS3                 2\n",
       "3         Аксессуары - PS4                 3\n",
       "4         Аксессуары - PSP                 4"
      ]
     },
     "execution_count": 19,
     "metadata": {},
     "output_type": "execute_result"
    }
   ],
   "source": [
    "item_categories.head()"
   ]
  },
  {
   "cell_type": "code",
   "execution_count": 20,
   "metadata": {
    "collapsed": false
   },
   "outputs": [
    {
     "data": {
      "text/html": [
       "<div>\n",
       "<table border=\"1\" class=\"dataframe\">\n",
       "  <thead>\n",
       "    <tr style=\"text-align: right;\">\n",
       "      <th></th>\n",
       "      <th>shop_name</th>\n",
       "      <th>shop_id</th>\n",
       "    </tr>\n",
       "  </thead>\n",
       "  <tbody>\n",
       "    <tr>\n",
       "      <th>0</th>\n",
       "      <td>!Якутск Орджоникидзе, 56 фран</td>\n",
       "      <td>0</td>\n",
       "    </tr>\n",
       "    <tr>\n",
       "      <th>1</th>\n",
       "      <td>!Якутск ТЦ \"Центральный\" фран</td>\n",
       "      <td>1</td>\n",
       "    </tr>\n",
       "    <tr>\n",
       "      <th>2</th>\n",
       "      <td>Адыгея ТЦ \"Мега\"</td>\n",
       "      <td>2</td>\n",
       "    </tr>\n",
       "    <tr>\n",
       "      <th>3</th>\n",
       "      <td>Балашиха ТРК \"Октябрь-Киномир\"</td>\n",
       "      <td>3</td>\n",
       "    </tr>\n",
       "    <tr>\n",
       "      <th>4</th>\n",
       "      <td>Волжский ТЦ \"Волга Молл\"</td>\n",
       "      <td>4</td>\n",
       "    </tr>\n",
       "  </tbody>\n",
       "</table>\n",
       "</div>"
      ],
      "text/plain": [
       "                        shop_name  shop_id\n",
       "0   !Якутск Орджоникидзе, 56 фран        0\n",
       "1   !Якутск ТЦ \"Центральный\" фран        1\n",
       "2                Адыгея ТЦ \"Мега\"        2\n",
       "3  Балашиха ТРК \"Октябрь-Киномир\"        3\n",
       "4        Волжский ТЦ \"Волга Молл\"        4"
      ]
     },
     "execution_count": 20,
     "metadata": {},
     "output_type": "execute_result"
    }
   ],
   "source": [
    "shops.head()"
   ]
  },
  {
   "cell_type": "markdown",
   "metadata": {},
   "source": [
    "Now use your `pandas` skills to get answers for the following questions. \n",
    "The first question is:\n",
    "\n",
    "1. ** What was the maximum total revenue among all the shops in September, 2014?** \n",
    "\n",
    "\n",
    "* Hereinafter *revenue* refers to total sales minus value of goods returned.\n",
    "\n",
    "*Hints:*\n",
    "\n",
    "* Sometimes items are returned, find such examples in the dataset. \n",
    "* It is handy to split `date` field into [`day`, `month`, `year`] components and use `df.year == 14` and `df.month == 9` in order to select target subset of dates.\n",
    "* You may work with `date` feature as with srings, or you may first convert it to `pd.datetime` type with `pd.to_datetime` function, but do not forget to set correct `format` argument."
   ]
  },
  {
   "cell_type": "code",
   "execution_count": 21,
   "metadata": {
    "collapsed": true
   },
   "outputs": [],
   "source": [
    "transactions['date'] = pd.to_datetime(transactions['date'], format = '%d.%m.%Y')"
   ]
  },
  {
   "cell_type": "code",
   "execution_count": 22,
   "metadata": {
    "collapsed": false
   },
   "outputs": [
    {
     "data": {
      "text/html": [
       "<div>\n",
       "<table border=\"1\" class=\"dataframe\">\n",
       "  <thead>\n",
       "    <tr style=\"text-align: right;\">\n",
       "      <th></th>\n",
       "      <th>date</th>\n",
       "      <th>date_block_num</th>\n",
       "      <th>shop_id</th>\n",
       "      <th>item_id</th>\n",
       "      <th>item_price</th>\n",
       "      <th>item_cnt_day</th>\n",
       "    </tr>\n",
       "  </thead>\n",
       "  <tbody>\n",
       "    <tr>\n",
       "      <th>0</th>\n",
       "      <td>2013-01-02</td>\n",
       "      <td>0</td>\n",
       "      <td>59</td>\n",
       "      <td>22154</td>\n",
       "      <td>999.00</td>\n",
       "      <td>1.0</td>\n",
       "    </tr>\n",
       "    <tr>\n",
       "      <th>1</th>\n",
       "      <td>2013-01-03</td>\n",
       "      <td>0</td>\n",
       "      <td>25</td>\n",
       "      <td>2552</td>\n",
       "      <td>899.00</td>\n",
       "      <td>1.0</td>\n",
       "    </tr>\n",
       "    <tr>\n",
       "      <th>2</th>\n",
       "      <td>2013-01-05</td>\n",
       "      <td>0</td>\n",
       "      <td>25</td>\n",
       "      <td>2552</td>\n",
       "      <td>899.00</td>\n",
       "      <td>-1.0</td>\n",
       "    </tr>\n",
       "    <tr>\n",
       "      <th>3</th>\n",
       "      <td>2013-01-06</td>\n",
       "      <td>0</td>\n",
       "      <td>25</td>\n",
       "      <td>2554</td>\n",
       "      <td>1709.05</td>\n",
       "      <td>1.0</td>\n",
       "    </tr>\n",
       "    <tr>\n",
       "      <th>4</th>\n",
       "      <td>2013-01-15</td>\n",
       "      <td>0</td>\n",
       "      <td>25</td>\n",
       "      <td>2555</td>\n",
       "      <td>1099.00</td>\n",
       "      <td>1.0</td>\n",
       "    </tr>\n",
       "  </tbody>\n",
       "</table>\n",
       "</div>"
      ],
      "text/plain": [
       "        date  date_block_num  shop_id  item_id  item_price  item_cnt_day\n",
       "0 2013-01-02               0       59    22154      999.00           1.0\n",
       "1 2013-01-03               0       25     2552      899.00           1.0\n",
       "2 2013-01-05               0       25     2552      899.00          -1.0\n",
       "3 2013-01-06               0       25     2554     1709.05           1.0\n",
       "4 2013-01-15               0       25     2555     1099.00           1.0"
      ]
     },
     "execution_count": 22,
     "metadata": {},
     "output_type": "execute_result"
    }
   ],
   "source": [
    "transactions.head()"
   ]
  },
  {
   "cell_type": "code",
   "execution_count": 36,
   "metadata": {
    "collapsed": true
   },
   "outputs": [],
   "source": [
    "from datetime import date"
   ]
  },
  {
   "cell_type": "code",
   "execution_count": 37,
   "metadata": {
    "collapsed": false
   },
   "outputs": [
    {
     "data": {
      "text/html": [
       "<div>\n",
       "<table border=\"1\" class=\"dataframe\">\n",
       "  <thead>\n",
       "    <tr style=\"text-align: right;\">\n",
       "      <th></th>\n",
       "      <th>date</th>\n",
       "      <th>date_block_num</th>\n",
       "      <th>shop_id</th>\n",
       "      <th>item_id</th>\n",
       "      <th>item_price</th>\n",
       "      <th>item_cnt_day</th>\n",
       "    </tr>\n",
       "  </thead>\n",
       "  <tbody>\n",
       "    <tr>\n",
       "      <th>1953691</th>\n",
       "      <td>2014-09-24</td>\n",
       "      <td>20</td>\n",
       "      <td>5</td>\n",
       "      <td>1039</td>\n",
       "      <td>899.0</td>\n",
       "      <td>1.0</td>\n",
       "    </tr>\n",
       "    <tr>\n",
       "      <th>1953692</th>\n",
       "      <td>2014-09-27</td>\n",
       "      <td>20</td>\n",
       "      <td>5</td>\n",
       "      <td>1015</td>\n",
       "      <td>449.0</td>\n",
       "      <td>1.0</td>\n",
       "    </tr>\n",
       "    <tr>\n",
       "      <th>1953693</th>\n",
       "      <td>2014-09-07</td>\n",
       "      <td>20</td>\n",
       "      <td>5</td>\n",
       "      <td>1329</td>\n",
       "      <td>399.0</td>\n",
       "      <td>1.0</td>\n",
       "    </tr>\n",
       "    <tr>\n",
       "      <th>1953694</th>\n",
       "      <td>2014-09-27</td>\n",
       "      <td>20</td>\n",
       "      <td>5</td>\n",
       "      <td>984</td>\n",
       "      <td>399.0</td>\n",
       "      <td>1.0</td>\n",
       "    </tr>\n",
       "    <tr>\n",
       "      <th>1953695</th>\n",
       "      <td>2014-09-08</td>\n",
       "      <td>20</td>\n",
       "      <td>5</td>\n",
       "      <td>984</td>\n",
       "      <td>399.0</td>\n",
       "      <td>1.0</td>\n",
       "    </tr>\n",
       "  </tbody>\n",
       "</table>\n",
       "</div>"
      ],
      "text/plain": [
       "              date  date_block_num  shop_id  item_id  item_price  item_cnt_day\n",
       "1953691 2014-09-24              20        5     1039       899.0           1.0\n",
       "1953692 2014-09-27              20        5     1015       449.0           1.0\n",
       "1953693 2014-09-07              20        5     1329       399.0           1.0\n",
       "1953694 2014-09-27              20        5      984       399.0           1.0\n",
       "1953695 2014-09-08              20        5      984       399.0           1.0"
      ]
     },
     "execution_count": 37,
     "metadata": {},
     "output_type": "execute_result"
    }
   ],
   "source": [
    "#sep_transactions = transactions[(transactions['date']>='2014-09-01') & (transactions['date']<'2014-09-30')]\n",
    "sep_transactions = transactions[(transactions['date'] >= date(2014, 9, 1))&(transactions['date'] <= date(2014, 9, 30))]\n",
    "sep_transactions.head()"
   ]
  },
  {
   "cell_type": "code",
   "execution_count": 40,
   "metadata": {
    "collapsed": false
   },
   "outputs": [
    {
     "name": "stderr",
     "output_type": "stream",
     "text": [
      "C:\\ProgramData\\Anaconda3\\lib\\site-packages\\ipykernel\\__main__.py:1: SettingWithCopyWarning: \n",
      "A value is trying to be set on a copy of a slice from a DataFrame.\n",
      "Try using .loc[row_indexer,col_indexer] = value instead\n",
      "\n",
      "See the caveats in the documentation: http://pandas.pydata.org/pandas-docs/stable/indexing.html#indexing-view-versus-copy\n",
      "  if __name__ == '__main__':\n"
     ]
    }
   ],
   "source": [
    "sep_transactions['revenue'] = sep_transactions['item_price'] * sep_transactions['item_cnt_day']"
   ]
  },
  {
   "cell_type": "code",
   "execution_count": 41,
   "metadata": {
    "collapsed": false
   },
   "outputs": [
    {
     "data": {
      "text/html": [
       "<div>\n",
       "<table border=\"1\" class=\"dataframe\">\n",
       "  <thead>\n",
       "    <tr style=\"text-align: right;\">\n",
       "      <th></th>\n",
       "      <th>date</th>\n",
       "      <th>date_block_num</th>\n",
       "      <th>shop_id</th>\n",
       "      <th>item_id</th>\n",
       "      <th>item_price</th>\n",
       "      <th>item_cnt_day</th>\n",
       "      <th>revenue</th>\n",
       "    </tr>\n",
       "  </thead>\n",
       "  <tbody>\n",
       "    <tr>\n",
       "      <th>1954265</th>\n",
       "      <td>2014-09-17</td>\n",
       "      <td>20</td>\n",
       "      <td>4</td>\n",
       "      <td>5591</td>\n",
       "      <td>1590.0</td>\n",
       "      <td>-1.0</td>\n",
       "      <td>-1590.0</td>\n",
       "    </tr>\n",
       "    <tr>\n",
       "      <th>1954274</th>\n",
       "      <td>2014-09-23</td>\n",
       "      <td>20</td>\n",
       "      <td>4</td>\n",
       "      <td>5657</td>\n",
       "      <td>4490.0</td>\n",
       "      <td>-1.0</td>\n",
       "      <td>-4490.0</td>\n",
       "    </tr>\n",
       "    <tr>\n",
       "      <th>1954294</th>\n",
       "      <td>2014-09-18</td>\n",
       "      <td>20</td>\n",
       "      <td>4</td>\n",
       "      <td>5814</td>\n",
       "      <td>1199.0</td>\n",
       "      <td>-1.0</td>\n",
       "      <td>-1199.0</td>\n",
       "    </tr>\n",
       "    <tr>\n",
       "      <th>1954306</th>\n",
       "      <td>2014-09-23</td>\n",
       "      <td>20</td>\n",
       "      <td>4</td>\n",
       "      <td>5669</td>\n",
       "      <td>3190.0</td>\n",
       "      <td>-1.0</td>\n",
       "      <td>-3190.0</td>\n",
       "    </tr>\n",
       "    <tr>\n",
       "      <th>1955145</th>\n",
       "      <td>2014-09-13</td>\n",
       "      <td>20</td>\n",
       "      <td>5</td>\n",
       "      <td>7342</td>\n",
       "      <td>299.0</td>\n",
       "      <td>-1.0</td>\n",
       "      <td>-299.0</td>\n",
       "    </tr>\n",
       "  </tbody>\n",
       "</table>\n",
       "</div>"
      ],
      "text/plain": [
       "              date  date_block_num  shop_id  item_id  item_price  \\\n",
       "1954265 2014-09-17              20        4     5591      1590.0   \n",
       "1954274 2014-09-23              20        4     5657      4490.0   \n",
       "1954294 2014-09-18              20        4     5814      1199.0   \n",
       "1954306 2014-09-23              20        4     5669      3190.0   \n",
       "1955145 2014-09-13              20        5     7342       299.0   \n",
       "\n",
       "         item_cnt_day  revenue  \n",
       "1954265          -1.0  -1590.0  \n",
       "1954274          -1.0  -4490.0  \n",
       "1954294          -1.0  -1199.0  \n",
       "1954306          -1.0  -3190.0  \n",
       "1955145          -1.0   -299.0  "
      ]
     },
     "execution_count": 41,
     "metadata": {},
     "output_type": "execute_result"
    }
   ],
   "source": [
    "sep_transactions[sep_transactions['item_cnt_day'] == -1].head()"
   ]
  },
  {
   "cell_type": "code",
   "execution_count": 44,
   "metadata": {
    "collapsed": false
   },
   "outputs": [],
   "source": [
    "max_revenue = sep_transactions.groupby(['shop_id'])['revenue'].sum().max()"
   ]
  },
  {
   "cell_type": "code",
   "execution_count": 45,
   "metadata": {
    "collapsed": false
   },
   "outputs": [
    {
     "name": "stdout",
     "output_type": "stream",
     "text": [
      "Current answer for task max_revenue is: 7982852.2\n"
     ]
    }
   ],
   "source": [
    "# YOUR CODE GOES HERE\n",
    "\n",
    "max_revenue = max_revenue # PUT YOUR ANSWER IN THIS VARIABLE\n",
    "grader.submit_tag('max_revenue', max_revenue)"
   ]
  },
  {
   "cell_type": "markdown",
   "metadata": {},
   "source": [
    "Great! Let's move on and answer another question:\n",
    "\n",
    "<ol start=\"2\">\n",
    "  <li><b>What item category generated the highest revenue in summer 2014?</b></li>\n",
    "</ol>\n",
    "\n",
    "* Submit `id` of the category found.\n",
    "    \n",
    "* Here we call \"summer\" the period from June to August.\n",
    "\n",
    "*Hints:*\n",
    "\n",
    "* Note, that for an object `x` of type `pd.Series`: `x.argmax()` returns **index** of the maximum element. `pd.Series` can have non-trivial index (not `[1, 2, 3, ... ]`)."
   ]
  },
  {
   "cell_type": "code",
   "execution_count": 47,
   "metadata": {
    "collapsed": false
   },
   "outputs": [
    {
     "data": {
      "text/html": [
       "<div>\n",
       "<table border=\"1\" class=\"dataframe\">\n",
       "  <thead>\n",
       "    <tr style=\"text-align: right;\">\n",
       "      <th></th>\n",
       "      <th>date</th>\n",
       "      <th>date_block_num</th>\n",
       "      <th>shop_id</th>\n",
       "      <th>item_id</th>\n",
       "      <th>item_price</th>\n",
       "      <th>item_cnt_day</th>\n",
       "    </tr>\n",
       "  </thead>\n",
       "  <tbody>\n",
       "    <tr>\n",
       "      <th>1705909</th>\n",
       "      <td>2014-06-15</td>\n",
       "      <td>17</td>\n",
       "      <td>26</td>\n",
       "      <td>9532</td>\n",
       "      <td>399.00</td>\n",
       "      <td>1.0</td>\n",
       "    </tr>\n",
       "    <tr>\n",
       "      <th>1705910</th>\n",
       "      <td>2014-06-10</td>\n",
       "      <td>17</td>\n",
       "      <td>26</td>\n",
       "      <td>9507</td>\n",
       "      <td>149.00</td>\n",
       "      <td>1.0</td>\n",
       "    </tr>\n",
       "    <tr>\n",
       "      <th>1705911</th>\n",
       "      <td>2014-06-13</td>\n",
       "      <td>17</td>\n",
       "      <td>26</td>\n",
       "      <td>9509</td>\n",
       "      <td>246.32</td>\n",
       "      <td>1.0</td>\n",
       "    </tr>\n",
       "    <tr>\n",
       "      <th>1705912</th>\n",
       "      <td>2014-06-03</td>\n",
       "      <td>17</td>\n",
       "      <td>26</td>\n",
       "      <td>9532</td>\n",
       "      <td>399.00</td>\n",
       "      <td>1.0</td>\n",
       "    </tr>\n",
       "    <tr>\n",
       "      <th>1705913</th>\n",
       "      <td>2014-06-08</td>\n",
       "      <td>17</td>\n",
       "      <td>26</td>\n",
       "      <td>9532</td>\n",
       "      <td>399.00</td>\n",
       "      <td>1.0</td>\n",
       "    </tr>\n",
       "  </tbody>\n",
       "</table>\n",
       "</div>"
      ],
      "text/plain": [
       "              date  date_block_num  shop_id  item_id  item_price  item_cnt_day\n",
       "1705909 2014-06-15              17       26     9532      399.00           1.0\n",
       "1705910 2014-06-10              17       26     9507      149.00           1.0\n",
       "1705911 2014-06-13              17       26     9509      246.32           1.0\n",
       "1705912 2014-06-03              17       26     9532      399.00           1.0\n",
       "1705913 2014-06-08              17       26     9532      399.00           1.0"
      ]
     },
     "execution_count": 47,
     "metadata": {},
     "output_type": "execute_result"
    }
   ],
   "source": [
    "summer_transactions = transactions[(transactions['date'] >= date(2014, 6, 1))&(transactions['date'] <= date(2014, 8, 31))]\n",
    "summer_transactions.head()"
   ]
  },
  {
   "cell_type": "code",
   "execution_count": 50,
   "metadata": {
    "collapsed": false
   },
   "outputs": [
    {
     "name": "stdout",
     "output_type": "stream",
     "text": [
      "2014-08-31 00:00:00\n",
      "2014-06-01 00:00:00\n"
     ]
    }
   ],
   "source": [
    "print(summer_transactions['date'].max())\n",
    "print(summer_transactions['date'].min())"
   ]
  },
  {
   "cell_type": "code",
   "execution_count": 52,
   "metadata": {
    "collapsed": false
   },
   "outputs": [
    {
     "name": "stderr",
     "output_type": "stream",
     "text": [
      "C:\\ProgramData\\Anaconda3\\lib\\site-packages\\ipykernel\\__main__.py:1: SettingWithCopyWarning: \n",
      "A value is trying to be set on a copy of a slice from a DataFrame.\n",
      "Try using .loc[row_indexer,col_indexer] = value instead\n",
      "\n",
      "See the caveats in the documentation: http://pandas.pydata.org/pandas-docs/stable/indexing.html#indexing-view-versus-copy\n",
      "  if __name__ == '__main__':\n"
     ]
    }
   ],
   "source": [
    "summer_transactions['revenue'] = summer_transactions['item_price'] * summer_transactions['item_cnt_day']"
   ]
  },
  {
   "cell_type": "code",
   "execution_count": 54,
   "metadata": {
    "collapsed": false
   },
   "outputs": [],
   "source": [
    "summer_trans_catids = summer_transactions.merge(items, how='inner', on='item_id')"
   ]
  },
  {
   "cell_type": "code",
   "execution_count": 55,
   "metadata": {
    "collapsed": false
   },
   "outputs": [
    {
     "data": {
      "text/html": [
       "<div>\n",
       "<table border=\"1\" class=\"dataframe\">\n",
       "  <thead>\n",
       "    <tr style=\"text-align: right;\">\n",
       "      <th></th>\n",
       "      <th>date</th>\n",
       "      <th>date_block_num</th>\n",
       "      <th>shop_id</th>\n",
       "      <th>item_id</th>\n",
       "      <th>item_price</th>\n",
       "      <th>item_cnt_day</th>\n",
       "      <th>revenue</th>\n",
       "      <th>item_name</th>\n",
       "      <th>item_category_id</th>\n",
       "    </tr>\n",
       "  </thead>\n",
       "  <tbody>\n",
       "    <tr>\n",
       "      <th>0</th>\n",
       "      <td>2014-06-15</td>\n",
       "      <td>17</td>\n",
       "      <td>26</td>\n",
       "      <td>9532</td>\n",
       "      <td>399.0</td>\n",
       "      <td>1.0</td>\n",
       "      <td>399.0</td>\n",
       "      <td>В тылу врага: Штурм 2 [PC, Jewel, русская версия]</td>\n",
       "      <td>30</td>\n",
       "    </tr>\n",
       "    <tr>\n",
       "      <th>1</th>\n",
       "      <td>2014-06-03</td>\n",
       "      <td>17</td>\n",
       "      <td>26</td>\n",
       "      <td>9532</td>\n",
       "      <td>399.0</td>\n",
       "      <td>1.0</td>\n",
       "      <td>399.0</td>\n",
       "      <td>В тылу врага: Штурм 2 [PC, Jewel, русская версия]</td>\n",
       "      <td>30</td>\n",
       "    </tr>\n",
       "    <tr>\n",
       "      <th>2</th>\n",
       "      <td>2014-06-08</td>\n",
       "      <td>17</td>\n",
       "      <td>26</td>\n",
       "      <td>9532</td>\n",
       "      <td>399.0</td>\n",
       "      <td>1.0</td>\n",
       "      <td>399.0</td>\n",
       "      <td>В тылу врага: Штурм 2 [PC, Jewel, русская версия]</td>\n",
       "      <td>30</td>\n",
       "    </tr>\n",
       "    <tr>\n",
       "      <th>3</th>\n",
       "      <td>2014-06-11</td>\n",
       "      <td>17</td>\n",
       "      <td>26</td>\n",
       "      <td>9532</td>\n",
       "      <td>399.0</td>\n",
       "      <td>1.0</td>\n",
       "      <td>399.0</td>\n",
       "      <td>В тылу врага: Штурм 2 [PC, Jewel, русская версия]</td>\n",
       "      <td>30</td>\n",
       "    </tr>\n",
       "    <tr>\n",
       "      <th>4</th>\n",
       "      <td>2014-06-19</td>\n",
       "      <td>17</td>\n",
       "      <td>26</td>\n",
       "      <td>9532</td>\n",
       "      <td>399.0</td>\n",
       "      <td>1.0</td>\n",
       "      <td>399.0</td>\n",
       "      <td>В тылу врага: Штурм 2 [PC, Jewel, русская версия]</td>\n",
       "      <td>30</td>\n",
       "    </tr>\n",
       "  </tbody>\n",
       "</table>\n",
       "</div>"
      ],
      "text/plain": [
       "        date  date_block_num  shop_id  item_id  item_price  item_cnt_day  \\\n",
       "0 2014-06-15              17       26     9532       399.0           1.0   \n",
       "1 2014-06-03              17       26     9532       399.0           1.0   \n",
       "2 2014-06-08              17       26     9532       399.0           1.0   \n",
       "3 2014-06-11              17       26     9532       399.0           1.0   \n",
       "4 2014-06-19              17       26     9532       399.0           1.0   \n",
       "\n",
       "   revenue                                          item_name  \\\n",
       "0    399.0  В тылу врага: Штурм 2 [PC, Jewel, русская версия]   \n",
       "1    399.0  В тылу врага: Штурм 2 [PC, Jewel, русская версия]   \n",
       "2    399.0  В тылу врага: Штурм 2 [PC, Jewel, русская версия]   \n",
       "3    399.0  В тылу врага: Штурм 2 [PC, Jewel, русская версия]   \n",
       "4    399.0  В тылу врага: Штурм 2 [PC, Jewel, русская версия]   \n",
       "\n",
       "   item_category_id  \n",
       "0                30  \n",
       "1                30  \n",
       "2                30  \n",
       "3                30  \n",
       "4                30  "
      ]
     },
     "execution_count": 55,
     "metadata": {},
     "output_type": "execute_result"
    }
   ],
   "source": [
    "summer_trans_catids.head()"
   ]
  },
  {
   "cell_type": "code",
   "execution_count": 70,
   "metadata": {
    "collapsed": false
   },
   "outputs": [
    {
     "data": {
      "text/plain": [
       "20"
      ]
     },
     "execution_count": 70,
     "metadata": {},
     "output_type": "execute_result"
    }
   ],
   "source": [
    "summer_trans_catids.groupby(['item_category_id'])['revenue'].sum().idxmax()"
   ]
  },
  {
   "cell_type": "code",
   "execution_count": 71,
   "metadata": {
    "collapsed": false
   },
   "outputs": [],
   "source": [
    "cat_id = summer_trans_catids.groupby(['item_category_id'])['revenue'].sum().idxmax()"
   ]
  },
  {
   "cell_type": "code",
   "execution_count": 72,
   "metadata": {
    "collapsed": false
   },
   "outputs": [
    {
     "name": "stdout",
     "output_type": "stream",
     "text": [
      "Current answer for task category_id_with_max_revenue is: 20\n"
     ]
    }
   ],
   "source": [
    "# YOUR CODE GOES HERE\n",
    "\n",
    "category_id_with_max_revenue = cat_id# PUT YOUR ANSWER IN THIS VARIABLE\n",
    "grader.submit_tag('category_id_with_max_revenue', category_id_with_max_revenue)"
   ]
  },
  {
   "cell_type": "markdown",
   "metadata": {},
   "source": [
    "<ol start=\"3\">\n",
    "  <li><b>How many items are there, such that their price stays constant (to the best of our knowledge) during the whole period of time?</b></li>\n",
    "</ol>\n",
    "\n",
    "* Let's assume, that the items are returned for the same price as they had been sold."
   ]
  },
  {
   "cell_type": "code",
   "execution_count": 73,
   "metadata": {
    "collapsed": false
   },
   "outputs": [
    {
     "data": {
      "text/html": [
       "<div>\n",
       "<table border=\"1\" class=\"dataframe\">\n",
       "  <thead>\n",
       "    <tr style=\"text-align: right;\">\n",
       "      <th></th>\n",
       "      <th>date</th>\n",
       "      <th>date_block_num</th>\n",
       "      <th>shop_id</th>\n",
       "      <th>item_id</th>\n",
       "      <th>item_price</th>\n",
       "      <th>item_cnt_day</th>\n",
       "    </tr>\n",
       "  </thead>\n",
       "  <tbody>\n",
       "    <tr>\n",
       "      <th>0</th>\n",
       "      <td>2013-01-02</td>\n",
       "      <td>0</td>\n",
       "      <td>59</td>\n",
       "      <td>22154</td>\n",
       "      <td>999.00</td>\n",
       "      <td>1.0</td>\n",
       "    </tr>\n",
       "    <tr>\n",
       "      <th>1</th>\n",
       "      <td>2013-01-03</td>\n",
       "      <td>0</td>\n",
       "      <td>25</td>\n",
       "      <td>2552</td>\n",
       "      <td>899.00</td>\n",
       "      <td>1.0</td>\n",
       "    </tr>\n",
       "    <tr>\n",
       "      <th>2</th>\n",
       "      <td>2013-01-05</td>\n",
       "      <td>0</td>\n",
       "      <td>25</td>\n",
       "      <td>2552</td>\n",
       "      <td>899.00</td>\n",
       "      <td>-1.0</td>\n",
       "    </tr>\n",
       "    <tr>\n",
       "      <th>3</th>\n",
       "      <td>2013-01-06</td>\n",
       "      <td>0</td>\n",
       "      <td>25</td>\n",
       "      <td>2554</td>\n",
       "      <td>1709.05</td>\n",
       "      <td>1.0</td>\n",
       "    </tr>\n",
       "    <tr>\n",
       "      <th>4</th>\n",
       "      <td>2013-01-15</td>\n",
       "      <td>0</td>\n",
       "      <td>25</td>\n",
       "      <td>2555</td>\n",
       "      <td>1099.00</td>\n",
       "      <td>1.0</td>\n",
       "    </tr>\n",
       "  </tbody>\n",
       "</table>\n",
       "</div>"
      ],
      "text/plain": [
       "        date  date_block_num  shop_id  item_id  item_price  item_cnt_day\n",
       "0 2013-01-02               0       59    22154      999.00           1.0\n",
       "1 2013-01-03               0       25     2552      899.00           1.0\n",
       "2 2013-01-05               0       25     2552      899.00          -1.0\n",
       "3 2013-01-06               0       25     2554     1709.05           1.0\n",
       "4 2013-01-15               0       25     2555     1099.00           1.0"
      ]
     },
     "execution_count": 73,
     "metadata": {},
     "output_type": "execute_result"
    }
   ],
   "source": [
    "transactions.head()"
   ]
  },
  {
   "cell_type": "code",
   "execution_count": 82,
   "metadata": {
    "collapsed": false
   },
   "outputs": [],
   "source": [
    "#transactions.groupby(['item_id']).nunique()\n",
    "item_cnt_contant_price = (transactions.groupby('item_id')['item_price'].nunique()==1).sum()"
   ]
  },
  {
   "cell_type": "code",
   "execution_count": 83,
   "metadata": {
    "collapsed": false
   },
   "outputs": [
    {
     "name": "stdout",
     "output_type": "stream",
     "text": [
      "Current answer for task num_items_constant_price is: 5926\n"
     ]
    }
   ],
   "source": [
    "# YOUR CODE GOES HERE\n",
    "\n",
    "num_items_constant_price = item_cnt_contant_price # PUT YOUR ANSWER IN THIS VARIABLE\n",
    "grader.submit_tag('num_items_constant_price', num_items_constant_price)"
   ]
  },
  {
   "cell_type": "markdown",
   "metadata": {},
   "source": [
    "Remember, the data can sometimes be noisy."
   ]
  },
  {
   "cell_type": "markdown",
   "metadata": {},
   "source": [
    "<ol start=\"4\">\n",
    "  <li><b>What was the variance of the number of sold items per day sequence for the shop with `shop_id = 25` in December, 2014?</b></li>\n",
    "</ol>\n",
    "\n",
    "* Fill `total_num_items_sold` and `days` arrays, and plot the sequence with the code below.\n",
    "* Then compute variance. Remember, there can be differences in how you normalize variance (biased or unbiased estimate, see [link](https://math.stackexchange.com/questions/496627/the-difference-between-unbiased-biased-estimator-variance)). Compute ***unbiased*** estimate (use the right value for `ddof` argument in `pd.var` or `np.var`)."
   ]
  },
  {
   "cell_type": "code",
   "execution_count": 91,
   "metadata": {
    "collapsed": false
   },
   "outputs": [
    {
     "data": {
      "text/html": [
       "<div>\n",
       "<table border=\"1\" class=\"dataframe\">\n",
       "  <thead>\n",
       "    <tr style=\"text-align: right;\">\n",
       "      <th></th>\n",
       "      <th>date</th>\n",
       "      <th>date_block_num</th>\n",
       "      <th>shop_id</th>\n",
       "      <th>item_id</th>\n",
       "      <th>item_price</th>\n",
       "      <th>item_cnt_day</th>\n",
       "    </tr>\n",
       "  </thead>\n",
       "  <tbody>\n",
       "    <tr>\n",
       "      <th>2295837</th>\n",
       "      <td>2014-12-14</td>\n",
       "      <td>23</td>\n",
       "      <td>25</td>\n",
       "      <td>21752</td>\n",
       "      <td>399.0</td>\n",
       "      <td>1.0</td>\n",
       "    </tr>\n",
       "    <tr>\n",
       "      <th>2295838</th>\n",
       "      <td>2014-12-13</td>\n",
       "      <td>23</td>\n",
       "      <td>25</td>\n",
       "      <td>21752</td>\n",
       "      <td>399.0</td>\n",
       "      <td>3.0</td>\n",
       "    </tr>\n",
       "    <tr>\n",
       "      <th>2295839</th>\n",
       "      <td>2014-12-26</td>\n",
       "      <td>23</td>\n",
       "      <td>25</td>\n",
       "      <td>21733</td>\n",
       "      <td>149.0</td>\n",
       "      <td>1.0</td>\n",
       "    </tr>\n",
       "    <tr>\n",
       "      <th>2295840</th>\n",
       "      <td>2014-12-31</td>\n",
       "      <td>23</td>\n",
       "      <td>25</td>\n",
       "      <td>21732</td>\n",
       "      <td>149.0</td>\n",
       "      <td>1.0</td>\n",
       "    </tr>\n",
       "    <tr>\n",
       "      <th>2295841</th>\n",
       "      <td>2014-12-30</td>\n",
       "      <td>23</td>\n",
       "      <td>25</td>\n",
       "      <td>21726</td>\n",
       "      <td>149.0</td>\n",
       "      <td>1.0</td>\n",
       "    </tr>\n",
       "  </tbody>\n",
       "</table>\n",
       "</div>"
      ],
      "text/plain": [
       "              date  date_block_num  shop_id  item_id  item_price  item_cnt_day\n",
       "2295837 2014-12-14              23       25    21752       399.0           1.0\n",
       "2295838 2014-12-13              23       25    21752       399.0           3.0\n",
       "2295839 2014-12-26              23       25    21733       149.0           1.0\n",
       "2295840 2014-12-31              23       25    21732       149.0           1.0\n",
       "2295841 2014-12-30              23       25    21726       149.0           1.0"
      ]
     },
     "execution_count": 91,
     "metadata": {},
     "output_type": "execute_result"
    }
   ],
   "source": [
    "transactions[(transactions['shop_id'] == 25) &  \n",
    "             (transactions['date'] >= date(2014, 12, 1))&\n",
    "             (transactions['date'] <= date(2014, 12, 31))].head()"
   ]
  },
  {
   "cell_type": "code",
   "execution_count": 93,
   "metadata": {
    "collapsed": false
   },
   "outputs": [
    {
     "name": "stdout",
     "output_type": "stream",
     "text": [
      "2014-12-31 00:00:00\n",
      "2014-12-01 00:00:00\n"
     ]
    }
   ],
   "source": [
    "print(transactions[(transactions['shop_id'] == 25) &  \n",
    "             (transactions['date'] >= date(2014, 12, 1))&\n",
    "             (transactions['date'] <= date(2014, 12, 31))]['date'].max())\n",
    "\n",
    "print(transactions[(transactions['shop_id'] == 25) &  \n",
    "             (transactions['date'] >= date(2014, 12, 1))&\n",
    "             (transactions['date'] <= date(2014, 12, 31))]['date'].min())"
   ]
  },
  {
   "cell_type": "raw",
   "metadata": {},
   "source": [
    "items_sold = transactions[(transactions['shop_id'] == 25) &  \n",
    "             (transactions['date'] >= date(2014, 12, 1))&\n",
    "             (transactions['date'] <= date(2014, 12, 31))]['item_cnt_day'].sum()"
   ]
  },
  {
   "cell_type": "raw",
   "metadata": {},
   "source": [
    "transactions[(transactions['shop_id'] == 25) &  \n",
    "             (transactions['date'] >= date(2014, 12, 1))&\n",
    "             (transactions['date'] <= date(2014, 12, 31))]['date'].sort_values().head()"
   ]
  },
  {
   "cell_type": "code",
   "execution_count": 114,
   "metadata": {
    "collapsed": false
   },
   "outputs": [],
   "source": [
    "dec_trans = transactions[(transactions['shop_id'] == 25) &  \n",
    "             (transactions['date'] >= date(2014, 12, 1))&\n",
    "             (transactions['date'] <= date(2014, 12, 31))]"
   ]
  },
  {
   "cell_type": "code",
   "execution_count": 115,
   "metadata": {
    "collapsed": false
   },
   "outputs": [
    {
     "data": {
      "text/html": [
       "<div>\n",
       "<table border=\"1\" class=\"dataframe\">\n",
       "  <thead>\n",
       "    <tr style=\"text-align: right;\">\n",
       "      <th></th>\n",
       "      <th>date</th>\n",
       "      <th>date_block_num</th>\n",
       "      <th>shop_id</th>\n",
       "      <th>item_id</th>\n",
       "      <th>item_price</th>\n",
       "      <th>item_cnt_day</th>\n",
       "    </tr>\n",
       "  </thead>\n",
       "  <tbody>\n",
       "    <tr>\n",
       "      <th>2295837</th>\n",
       "      <td>2014-12-14</td>\n",
       "      <td>23</td>\n",
       "      <td>25</td>\n",
       "      <td>21752</td>\n",
       "      <td>399.0</td>\n",
       "      <td>1.0</td>\n",
       "    </tr>\n",
       "    <tr>\n",
       "      <th>2295838</th>\n",
       "      <td>2014-12-13</td>\n",
       "      <td>23</td>\n",
       "      <td>25</td>\n",
       "      <td>21752</td>\n",
       "      <td>399.0</td>\n",
       "      <td>3.0</td>\n",
       "    </tr>\n",
       "    <tr>\n",
       "      <th>2295839</th>\n",
       "      <td>2014-12-26</td>\n",
       "      <td>23</td>\n",
       "      <td>25</td>\n",
       "      <td>21733</td>\n",
       "      <td>149.0</td>\n",
       "      <td>1.0</td>\n",
       "    </tr>\n",
       "    <tr>\n",
       "      <th>2295840</th>\n",
       "      <td>2014-12-31</td>\n",
       "      <td>23</td>\n",
       "      <td>25</td>\n",
       "      <td>21732</td>\n",
       "      <td>149.0</td>\n",
       "      <td>1.0</td>\n",
       "    </tr>\n",
       "    <tr>\n",
       "      <th>2295841</th>\n",
       "      <td>2014-12-30</td>\n",
       "      <td>23</td>\n",
       "      <td>25</td>\n",
       "      <td>21726</td>\n",
       "      <td>149.0</td>\n",
       "      <td>1.0</td>\n",
       "    </tr>\n",
       "  </tbody>\n",
       "</table>\n",
       "</div>"
      ],
      "text/plain": [
       "              date  date_block_num  shop_id  item_id  item_price  item_cnt_day\n",
       "2295837 2014-12-14              23       25    21752       399.0           1.0\n",
       "2295838 2014-12-13              23       25    21752       399.0           3.0\n",
       "2295839 2014-12-26              23       25    21733       149.0           1.0\n",
       "2295840 2014-12-31              23       25    21732       149.0           1.0\n",
       "2295841 2014-12-30              23       25    21726       149.0           1.0"
      ]
     },
     "execution_count": 115,
     "metadata": {},
     "output_type": "execute_result"
    }
   ],
   "source": [
    "dec_trans.head()"
   ]
  },
  {
   "cell_type": "code",
   "execution_count": 155,
   "metadata": {
    "collapsed": false,
    "scrolled": true
   },
   "outputs": [],
   "source": [
    "number_items_sold_dec = dec_trans.groupby(['date'])['item_cnt_day'].sum()"
   ]
  },
  {
   "cell_type": "code",
   "execution_count": 157,
   "metadata": {
    "collapsed": false
   },
   "outputs": [
    {
     "data": {
      "text/plain": [
       "DatetimeIndex(['2014-12-01', '2014-12-02', '2014-12-03', '2014-12-04',\n",
       "               '2014-12-05', '2014-12-06', '2014-12-07', '2014-12-08',\n",
       "               '2014-12-09', '2014-12-10', '2014-12-11', '2014-12-12',\n",
       "               '2014-12-13', '2014-12-14', '2014-12-15', '2014-12-16',\n",
       "               '2014-12-17', '2014-12-18', '2014-12-19', '2014-12-20',\n",
       "               '2014-12-21', '2014-12-22', '2014-12-23', '2014-12-24',\n",
       "               '2014-12-25', '2014-12-26', '2014-12-27', '2014-12-28',\n",
       "               '2014-12-30', '2014-12-31'],\n",
       "              dtype='datetime64[ns]', name='date', freq=None)"
      ]
     },
     "execution_count": 157,
     "metadata": {},
     "output_type": "execute_result"
    }
   ],
   "source": [
    "number_items_sold_dec.index"
   ]
  },
  {
   "cell_type": "code",
   "execution_count": 161,
   "metadata": {
    "collapsed": false
   },
   "outputs": [
    {
     "data": {
      "text/plain": [
       "117167.70229885059"
      ]
     },
     "execution_count": 161,
     "metadata": {},
     "output_type": "execute_result"
    }
   ],
   "source": [
    "number_items_sold_dec.var()"
   ]
  },
  {
   "cell_type": "code",
   "execution_count": 135,
   "metadata": {
    "collapsed": false
   },
   "outputs": [],
   "source": [
    "number_items_sold_dec1 = pd.DataFrame(number_items_sold_dec)"
   ]
  },
  {
   "cell_type": "code",
   "execution_count": 137,
   "metadata": {
    "collapsed": true
   },
   "outputs": [],
   "source": [
    "number_items_sold_dec1.reset_index(level=0, inplace=True)"
   ]
  },
  {
   "cell_type": "code",
   "execution_count": 138,
   "metadata": {
    "collapsed": false
   },
   "outputs": [
    {
     "data": {
      "text/html": [
       "<div>\n",
       "<table border=\"1\" class=\"dataframe\">\n",
       "  <thead>\n",
       "    <tr style=\"text-align: right;\">\n",
       "      <th></th>\n",
       "      <th>date</th>\n",
       "      <th>item_cnt_day</th>\n",
       "    </tr>\n",
       "  </thead>\n",
       "  <tbody>\n",
       "    <tr>\n",
       "      <th>0</th>\n",
       "      <td>2014-12-01</td>\n",
       "      <td>153.0</td>\n",
       "    </tr>\n",
       "    <tr>\n",
       "      <th>1</th>\n",
       "      <td>2014-12-02</td>\n",
       "      <td>169.0</td>\n",
       "    </tr>\n",
       "    <tr>\n",
       "      <th>2</th>\n",
       "      <td>2014-12-03</td>\n",
       "      <td>195.0</td>\n",
       "    </tr>\n",
       "    <tr>\n",
       "      <th>3</th>\n",
       "      <td>2014-12-04</td>\n",
       "      <td>164.0</td>\n",
       "    </tr>\n",
       "    <tr>\n",
       "      <th>4</th>\n",
       "      <td>2014-12-05</td>\n",
       "      <td>300.0</td>\n",
       "    </tr>\n",
       "  </tbody>\n",
       "</table>\n",
       "</div>"
      ],
      "text/plain": [
       "        date  item_cnt_day\n",
       "0 2014-12-01         153.0\n",
       "1 2014-12-02         169.0\n",
       "2 2014-12-03         195.0\n",
       "3 2014-12-04         164.0\n",
       "4 2014-12-05         300.0"
      ]
     },
     "execution_count": 138,
     "metadata": {},
     "output_type": "execute_result"
    }
   ],
   "source": [
    "number_items_sold_dec1.head()"
   ]
  },
  {
   "cell_type": "code",
   "execution_count": 140,
   "metadata": {
    "collapsed": false
   },
   "outputs": [
    {
     "data": {
      "text/plain": [
       "0    153.0\n",
       "1    169.0\n",
       "2    195.0\n",
       "3    164.0\n",
       "4    300.0\n",
       "Name: item_cnt_day, dtype: float64"
      ]
     },
     "execution_count": 140,
     "metadata": {},
     "output_type": "execute_result"
    }
   ],
   "source": [
    "number_items_sold_dec1['item_cnt_day'].head()"
   ]
  },
  {
   "cell_type": "code",
   "execution_count": 154,
   "metadata": {
    "collapsed": false
   },
   "outputs": [],
   "source": [
    "variance = number_items_sold_dec1.var()"
   ]
  },
  {
   "cell_type": "code",
   "execution_count": 162,
   "metadata": {
    "collapsed": false
   },
   "outputs": [
    {
     "data": {
      "image/png": "[encoded data removed]",
      "text/plain": [
       "<matplotlib.figure.Figure at 0xa9d9c88>"
      ]
     },
     "metadata": {},
     "output_type": "display_data"
    },
    {
     "name": "stdout",
     "output_type": "stream",
     "text": [
      "Current answer for task total_num_items_sold_var is: 117167.70229885059\n"
     ]
    }
   ],
   "source": [
    "shop_id = 25\n",
    "\n",
    "total_num_items_sold = number_items_sold_dec # YOUR CODE GOES HERE\n",
    "days =  number_items_sold_dec.index # YOUR CODE GOES HERE\n",
    "\n",
    "# Plot it\n",
    "plt.plot(days, total_num_items_sold)\n",
    "plt.ylabel('Num items')\n",
    "plt.xlabel('Day')\n",
    "plt.title(\"Daily revenue for shop_id = 25\")\n",
    "plt.show()\n",
    "\n",
    "total_num_items_sold_var = number_items_sold_dec.var() # PUT YOUR ANSWER IN THIS VARIABLE\n",
    "grader.submit_tag('total_num_items_sold_var', total_num_items_sold_var)"
   ]
  },
  {
   "cell_type": "markdown",
   "metadata": {},
   "source": [
    "## Authorization & Submission\n",
    "To submit assignment to Cousera platform, please, enter your e-mail and token into the variables below. You can generate token on the programming assignment page. *Note:* Token expires 30 minutes after generation."
   ]
  },
  {
   "cell_type": "code",
   "execution_count": 164,
   "metadata": {
    "collapsed": false
   },
   "outputs": [
    {
     "name": "stdout",
     "output_type": "stream",
     "text": [
      "You want to submit these numbers:\n",
      "Task max_revenue: 7982852.2\n",
      "Task category_id_with_max_revenue: 20\n",
      "Task num_items_constant_price: 5926\n",
      "Task total_num_items_sold_var: 117167.70229885059\n"
     ]
    }
   ],
   "source": [
    "STUDENT_EMAIL = 'anuraggdeshmukh@gmail.com' # EMAIL HERE\n",
    "STUDENT_TOKEN = 'C2Ey7sdGYyjsrnq3' # TOKEN HERE\n",
    "grader.status()"
   ]
  },
  {
   "cell_type": "code",
   "execution_count": 165,
   "metadata": {
    "collapsed": false
   },
   "outputs": [
    {
     "name": "stdout",
     "output_type": "stream",
     "text": [
      "Submitted to Coursera platform. See results on assignment page!\n"
     ]
    }
   ],
   "source": [
    "grader.submit(STUDENT_EMAIL, STUDENT_TOKEN)"
   ]
  },
  {
   "cell_type": "markdown",
   "metadata": {},
   "source": [
    "Well done! :)"
   ]
  }
 ],
 "metadata": {
  "hw_version": "1.0.0",
  "kernelspec": {
   "display_name": "Python 3",
   "language": "python",
   "name": "python3"
  },
  "language_info": {
   "codemirror_mode": {
    "name": "ipython",
    "version": 3
   },
   "file_extension": ".py",
   "mimetype": "text/x-python",
   "name": "python",
   "nbconvert_exporter": "python",
   "pygments_lexer": "ipython3",
   "version": "3.6.0"
  }
 },
 "nbformat": 4,
 "nbformat_minor": 2
}
